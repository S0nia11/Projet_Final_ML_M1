{
 "cells": [
  {
   "cell_type": "markdown",
   "id": "d398927c-f21d-43b9-ba6c-45c7f973bd7a",
   "metadata": {},
   "source": [
    "# Questions(Bonus)"
   ]
  },
  {
   "cell_type": "code",
   "execution_count": null,
   "id": "f54da1b3-007d-46cd-954d-e46ffe6962ab",
   "metadata": {},
   "outputs": [],
   "source": [
    "## 1. Largeur des régressseurs et variables explicatives\n",
    "\n",
    "Pour améliorer la précision des prévisions boursières, plusieurs variables supplémentaires peuvent être envisagées :\n",
    "- **Indicateurs macroéconomiques** : inflation, taux d’intérêt, chômage, PIB.\n",
    "- **Cours d'autres actions corrélées** : exemple, AAPL, GOOG en lien avec TSLA.\n",
    "- **Volumes des transactions** : indicateur de volatilité et d’intérêt des investisseurs.\n",
    "- **Analyse de sentiment** : traitement automatique du langage (NLP) sur actualités financières ou réseaux sociaux.\n",
    "\n",
    "### 👉 Comment tester leur impact ?\n",
    "- Analyse de **feature importance** avec modèles ML (Random Forest, XGBoost…).\n",
    "- **Granger Causality Test** pour vérifier les relations causales temporelles.\n",
    "\n",
    "\n",
    "## 2. Événements et jours fériés\n",
    "\n",
    "Certains événements clés peuvent fortement impacter les marchés :\n",
    "- **Résultats trimestriels des entreprises**\n",
    "- **Lancements technologiques majeurs**\n",
    "- **Décisions de banques centrales (FED, BCE)** ou conférences économiques\n",
    "- **Réglementations ou annonces gouvernementales**\n",
    "\n",
    "Les **jours fériés et périodes de fermeture des marchés** influencent aussi la volatilité et la liquidité.\n",
    "\n",
    "➡️ Ces données peuvent être **intégrées dans les modèles sous forme de variables explicatives (binaires ou catégoriques)**.\n",
    "## 3. Cycles et tendances long terme\n",
    "\n",
    "- **Cycles récurrents** : effet janvier, bull/bear markets, effets saisonniers.\n",
    "- **Détection des tendances** :\n",
    "  - Décomposition STL (saisonnalité, tendance, bruit)\n",
    "  - Modèles SARIMA, Holt-Winters\n",
    "- **Périodicité optimale** : à évaluer par validation croisée sur différents pas de temps.\n",
    "\n",
    "---\n",
    "\n",
    "## 4. Variables connues dans le futur (Future known regressors)\n",
    "\n",
    "Certaines variables sont **connues à l’avance** et peuvent enrichir les modèles :\n",
    "- **Taux d’intérêt programmés**\n",
    "- **Dividendes annoncés**\n",
    "- **Dates prévues d’événements économiques**\n",
    "\n",
    "➡️ Ces variables peuvent être intégrées dans :\n",
    "- **Facebook Prophet** via `add_regressor()`\n",
    "- **Modèles LSTM multivariés synchronisés**"
   ]
  }
 ],
 "metadata": {
  "kernelspec": {
   "display_name": "Python 3 (ipykernel)",
   "language": "python",
   "name": "python3"
  },
  "language_info": {
   "codemirror_mode": {
    "name": "ipython",
    "version": 3
   },
   "file_extension": ".py",
   "mimetype": "text/x-python",
   "name": "python",
   "nbconvert_exporter": "python",
   "pygments_lexer": "ipython3",
   "version": "3.11.9"
  }
 },
 "nbformat": 4,
 "nbformat_minor": 5
}
