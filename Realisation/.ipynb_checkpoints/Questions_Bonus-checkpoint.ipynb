{
 "cells": [
  {
   "cell_type": "markdown",
   "id": "d398927c-f21d-43b9-ba6c-45c7f973bd7a",
   "metadata": {},
   "source": [
    "# Questions(Bonus)"
   ]
  },
  {
   "cell_type": "markdown",
   "id": "c560b375-0c19-444b-9b8c-60a84c561382",
   "metadata": {},
   "source": [
    "## 1. Largeur des régressseurs et variables explicatives\n",
    "\n",
    "Pour améliorer la précision des prévisions boursières, plusieurs variables supplémentaires peuvent être envisagées :\n",
    "- **Indicateurs macroéconomiques** : inflation, taux d’intérêt, chômage, PIB.\n",
    "- **Cours d'autres actions corrélées** : exemple, AAPL, GOOG en lien avec TSLA.\n",
    "- **Volumes des transactions** : indicateur de volatilité et d’intérêt des investisseurs.\n",
    "- **Analyse de sentiment** : traitement automatique du langage (NLP) sur actualités financières ou réseaux sociaux.\n",
    "\n",
    "### 👉 Comment tester leur impact ?\n",
    "- Analyse de **feature importance** avec modèles ML (Random Forest, XGBoost…).\n",
    "- **Granger Causality Test** pour vérifier les relations causales temporelles.\n",
    "\n",
    "\n",
    "## 2. Événements et jours fériés\n",
    "\n",
    "Certains événements clés peuvent fortement impacter les marchés :\n",
    "- **Résultats trimestriels des entreprises** (earnings reports)\n",
    "- ** Annonces majeures** : comme le Cybertruck, IA chez Tesla, ou Apple Vision Pro\n",
    "- **Lancements technologiques majeurs**\n",
    "- **Décisions de banques centrales (FED, BCE)** ou conférences économiques\n",
    "- **Réglementations ou annonces gouvernementales** : ois sur les batteries, taxes carbone, subventions véhicules électriques.\n",
    "\n",
    "\n",
    "\n",
    "➡️ Ces données peuvent être **intégrées dans les modèles sous forme de variables explicatives (binaires ou catégoriques)**.\n",
    "## 3. Cycles et tendances long terme\n",
    "\n",
    "Cycles fréquents :\n",
    " - **Effet janvier** : hausse des actions en début d’année.\n",
    " - **Bull / Bear market** : cycles de croissance ou de repli structurels.\n",
    " - **Effet week-end** : parfois les lundis sont volatils après le week-end.\n",
    "    \n",
    "** Détection **:\n",
    "Désaisonnalisation avec seasonal_decompose() ou Prophet.\n",
    "SARIMA pour modéliser des composantes saisonnières (tu peux jouer avec S=252 pour du annuel sur jours boursiers).\n",
    "HP filter (Hodrick-Prescott) pour séparer tendance et cycle.\n",
    "\n",
    "\n",
    "## 4. Variables connues dans le futur (Future known regressors)\n",
    "\n",
    "Ces variables peuvent être intégrées dans :\n",
    "- **Facebook Prophet** via `add_regressor()`\n",
    "- **Modèles LSTM multivariés synchronisés**\n",
    "\n",
    "**Exemples** :\n",
    "Dividendes annoncés à l’avance\n",
    "Calendrier de publication des résultats\n",
    "Prévisions des taux de la FED (souvent anticipés via les futures)\n",
    "Annonce d’événements corporate planifiés (Keynotes, AG…)"
   ]
  },
  {
   "cell_type": "code",
   "execution_count": null,
   "id": "a63b659d-0de9-4b4f-b362-6a871561c75f",
   "metadata": {},
   "outputs": [],
   "source": []
  }
 ],
 "metadata": {
  "kernelspec": {
   "display_name": "Python 3 (ipykernel)",
   "language": "python",
   "name": "python3"
  },
  "language_info": {
   "codemirror_mode": {
    "name": "ipython",
    "version": 3
   },
   "file_extension": ".py",
   "mimetype": "text/x-python",
   "name": "python",
   "nbconvert_exporter": "python",
   "pygments_lexer": "ipython3",
   "version": "3.11.9"
  }
 },
 "nbformat": 4,
 "nbformat_minor": 5
}
