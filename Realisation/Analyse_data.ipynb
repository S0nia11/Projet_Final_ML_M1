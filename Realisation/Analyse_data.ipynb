{
 "cells": [
  {
   "cell_type": "markdown",
   "id": "f77aac25-820b-4780-b110-fe655cb97945",
   "metadata": {},
   "source": [
    "## PARITE DATA \n",
    "SONIA SAI \n",
    "ETIA-ANAELLE SAKOA"
   ]
  },
  {
   "cell_type": "markdown",
   "id": "3ca3e842-6960-484c-8024-8dc3544c6e59",
   "metadata": {},
   "source": [
    "## PARTIE A : ANALYSE ET PRÉTRAITEMENT\n"
   ]
  },
  {
   "cell_type": "markdown",
   "id": "e00a7d6e-b4cb-4944-8cff-d19e9dce2b23",
   "metadata": {},
   "source": [
    "Cette partie vise à faire une analyse exploratoire des données récoltées et une segmentation du marché boursier"
   ]
  },
  {
   "cell_type": "markdown",
   "id": "7d507078-f91c-47d9-a7d2-74f1a0087f64",
   "metadata": {},
   "source": [
    "# 1. Collecte des données "
   ]
  },
  {
   "cell_type": "code",
   "execution_count": 1,
   "id": "c3b50d4e-5061-41b6-a2c1-fcd62ae6ac95",
   "metadata": {},
   "outputs": [
    {
     "name": "stdout",
     "output_type": "stream",
     "text": [
      "Collecting yfinance"
     ]
    },
    {
     "name": "stderr",
     "output_type": "stream",
     "text": [
      "WARNING: Skipping C:\\Users\\sonia\\anaconda3\\Lib\\site-packages\\jupyter-1.0.0.dist-info due to invalid metadata entry 'name'\n",
      "WARNING: Skipping C:\\Users\\sonia\\anaconda3\\Lib\\site-packages\\jupyter-1.0.0.dist-info due to invalid metadata entry 'name'\n",
      "WARNING: Skipping C:\\Users\\sonia\\anaconda3\\Lib\\site-packages\\jupyter-1.0.0.dist-info due to invalid metadata entry 'name'\n",
      "WARNING: Skipping C:\\Users\\sonia\\anaconda3\\Lib\\site-packages\\jupyter-1.0.0.dist-info due to invalid metadata entry 'name'\n",
      "WARNING: Skipping C:\\Users\\sonia\\anaconda3\\Lib\\site-packages\\jupyter-1.0.0.dist-info due to invalid metadata entry 'name'\n",
      "WARNING: Skipping C:\\Users\\sonia\\anaconda3\\Lib\\site-packages\\jupyter-1.0.0.dist-info due to invalid metadata entry 'name'\n",
      "WARNING: Skipping C:\\Users\\sonia\\anaconda3\\Lib\\site-packages\\jupyter-1.0.0.dist-info due to invalid metadata entry 'name'\n",
      "WARNING: Skipping C:\\Users\\sonia\\anaconda3\\Lib\\site-packages\\jupyter-1.0.0.dist-info due to invalid metadata entry 'name'\n",
      "WARNING: Skipping C:\\Users\\sonia\\anaconda3\\Lib\\site-packages\\jupyter-1.0.0.dist-info due to invalid metadata entry 'name'\n"
     ]
    },
    {
     "name": "stdout",
     "output_type": "stream",
     "text": [
      "\n",
      "  Downloading yfinance-0.2.55-py2.py3-none-any.whl.metadata (5.8 kB)\n",
      "Requirement already satisfied: pandas>=1.3.0 in c:\\users\\sonia\\anaconda3\\lib\\site-packages (from yfinance) (2.2.0)\n",
      "Requirement already satisfied: numpy>=1.16.5 in c:\\users\\sonia\\anaconda3\\lib\\site-packages (from yfinance) (1.26.4)\n",
      "Requirement already satisfied: requests>=2.31 in c:\\users\\sonia\\anaconda3\\lib\\site-packages (from yfinance) (2.31.0)\n",
      "Collecting multitasking>=0.0.7 (from yfinance)\n",
      "  Downloading multitasking-0.0.11-py3-none-any.whl.metadata (5.5 kB)\n",
      "Requirement already satisfied: platformdirs>=2.0.0 in c:\\users\\sonia\\appdata\\roaming\\python\\python311\\site-packages (from yfinance) (4.1.0)\n",
      "Requirement already satisfied: pytz>=2022.5 in c:\\users\\sonia\\anaconda3\\lib\\site-packages (from yfinance) (2024.1)\n",
      "Requirement already satisfied: frozendict>=2.3.4 in c:\\users\\sonia\\anaconda3\\lib\\site-packages (from yfinance) (2.4.2)\n",
      "Collecting peewee>=3.16.2 (from yfinance)\n",
      "  Downloading peewee-3.17.9.tar.gz (3.0 MB)\n",
      "     ---------------------------------------- 0.0/3.0 MB ? eta -:--:--\n",
      "     ---------------------------------------- 0.0/3.0 MB ? eta -:--:--\n",
      "     ---------------------------------------- 0.0/3.0 MB 217.9 kB/s eta 0:00:14\n",
      "     ---------------------------------------- 0.0/3.0 MB 259.2 kB/s eta 0:00:12\n",
      "      --------------------------------------- 0.1/3.0 MB 290.5 kB/s eta 0:00:11\n",
      "     -- ------------------------------------- 0.2/3.0 MB 1.0 MB/s eta 0:00:03\n",
      "     ---- ----------------------------------- 0.4/3.0 MB 1.6 MB/s eta 0:00:02\n",
      "     ------- -------------------------------- 0.6/3.0 MB 2.2 MB/s eta 0:00:02\n",
      "     ---------- ----------------------------- 0.8/3.0 MB 2.3 MB/s eta 0:00:01\n",
      "     ------------- -------------------------- 1.1/3.0 MB 2.9 MB/s eta 0:00:01\n",
      "     ----------------- ---------------------- 1.3/3.0 MB 3.1 MB/s eta 0:00:01\n",
      "     ------------------- -------------------- 1.5/3.0 MB 3.1 MB/s eta 0:00:01\n",
      "     --------------------- ------------------ 1.6/3.0 MB 3.2 MB/s eta 0:00:01\n",
      "     ----------------------- ---------------- 1.8/3.0 MB 3.4 MB/s eta 0:00:01\n",
      "     ------------------------- -------------- 1.9/3.0 MB 3.3 MB/s eta 0:00:01\n",
      "     --------------------------- ------------ 2.1/3.0 MB 3.2 MB/s eta 0:00:01\n",
      "     ------------------------------ --------- 2.3/3.0 MB 3.4 MB/s eta 0:00:01\n",
      "     ------------------------------- -------- 2.4/3.0 MB 3.2 MB/s eta 0:00:01\n",
      "     -------------------------------- ------- 2.5/3.0 MB 3.2 MB/s eta 0:00:01\n",
      "     ----------------------------------- ---- 2.7/3.0 MB 3.2 MB/s eta 0:00:01\n",
      "     -------------------------------------- - 2.9/3.0 MB 3.4 MB/s eta 0:00:01\n",
      "     ---------------------------------------  3.0/3.0 MB 3.3 MB/s eta 0:00:01\n",
      "     ---------------------------------------- 3.0/3.0 MB 3.2 MB/s eta 0:00:00\n",
      "  Installing build dependencies: started\n",
      "  Installing build dependencies: finished with status 'done'\n",
      "  Getting requirements to build wheel: started\n",
      "  Getting requirements to build wheel: finished with status 'done'\n",
      "  Preparing metadata (pyproject.toml): started\n",
      "  Preparing metadata (pyproject.toml): finished with status 'done'\n",
      "Requirement already satisfied: beautifulsoup4>=4.11.1 in c:\\users\\sonia\\anaconda3\\lib\\site-packages (from yfinance) (4.12.2)\n",
      "Requirement already satisfied: soupsieve>1.2 in c:\\users\\sonia\\anaconda3\\lib\\site-packages (from beautifulsoup4>=4.11.1->yfinance) (2.5)\n",
      "Requirement already satisfied: python-dateutil>=2.8.2 in c:\\users\\sonia\\appdata\\roaming\\python\\python311\\site-packages (from pandas>=1.3.0->yfinance) (2.8.2)\n",
      "Requirement already satisfied: tzdata>=2022.7 in c:\\users\\sonia\\anaconda3\\lib\\site-packages (from pandas>=1.3.0->yfinance) (2023.3)\n",
      "Requirement already satisfied: charset-normalizer<4,>=2 in c:\\users\\sonia\\anaconda3\\lib\\site-packages (from requests>=2.31->yfinance) (2.0.4)\n",
      "Requirement already satisfied: idna<4,>=2.5 in c:\\users\\sonia\\anaconda3\\lib\\site-packages (from requests>=2.31->yfinance) (3.7)\n",
      "Requirement already satisfied: urllib3<3,>=1.21.1 in c:\\users\\sonia\\anaconda3\\lib\\site-packages (from requests>=2.31->yfinance) (2.1.0)\n",
      "Requirement already satisfied: certifi>=2017.4.17 in c:\\users\\sonia\\anaconda3\\lib\\site-packages (from requests>=2.31->yfinance) (2024.8.30)\n",
      "Requirement already satisfied: six>=1.5 in c:\\users\\sonia\\appdata\\roaming\\python\\python311\\site-packages (from python-dateutil>=2.8.2->pandas>=1.3.0->yfinance) (1.16.0)\n",
      "Downloading yfinance-0.2.55-py2.py3-none-any.whl (109 kB)\n",
      "   ---------------------------------------- 0.0/109.8 kB ? eta -:--:--\n",
      "   ---------------------------------------- 109.8/109.8 kB 3.2 MB/s eta 0:00:00\n",
      "Downloading multitasking-0.0.11-py3-none-any.whl (8.5 kB)\n",
      "Building wheels for collected packages: peewee\n",
      "  Building wheel for peewee (pyproject.toml): started\n",
      "  Building wheel for peewee (pyproject.toml): finished with status 'done'\n",
      "  Created wheel for peewee: filename=peewee-3.17.9-py3-none-any.whl size=139127 sha256=5737b927e4f9a9d3eab9e7bf1c9a437f711a50816bf605ecb66cb93b1e4d2e92\n",
      "  Stored in directory: c:\\users\\sonia\\appdata\\local\\pip\\cache\\wheels\\f4\\14\\e4\\50c88c865833085aeb91e2bd40e3a683ff434806386b8ee7bc\n",
      "Successfully built peewee\n",
      "Installing collected packages: peewee, multitasking, yfinance\n",
      "Successfully installed multitasking-0.0.11 peewee-3.17.9 yfinance-0.2.55\n"
     ]
    }
   ],
   "source": [
    "!pip install yfinance"
   ]
  },
  {
   "cell_type": "code",
   "execution_count": 2,
   "id": "1ac48853-7f3b-4739-81b8-a83e1b04be41",
   "metadata": {},
   "outputs": [],
   "source": [
    "import yfinance as yf\n",
    "import pandas as pd"
   ]
  },
  {
   "cell_type": "code",
   "execution_count": 3,
   "id": "257419fb-1ed6-4bbe-a1dd-1fcecd03f9bb",
   "metadata": {},
   "outputs": [],
   "source": [
    "start_date = \"2018-01-01\"\n",
    "end_date = \"2024-12-31\""
   ]
  },
  {
   "cell_type": "code",
   "execution_count": 4,
   "id": "9fbbab6d-d990-4900-8010-b13bf6b820c1",
   "metadata": {},
   "outputs": [
    {
     "name": "stdout",
     "output_type": "stream",
     "text": [
      "YF.download() has changed argument auto_adjust default to True\n"
     ]
    },
    {
     "name": "stderr",
     "output_type": "stream",
     "text": [
      "[*********************100%***********************]  5 of 5 completed\n"
     ]
    }
   ],
   "source": [
    "#téléchargement des données\n",
    "tickers = ['TSLA', 'AAPL', 'GOOG', 'AMZN', 'META']  \n",
    "data = yf.download(tickers, start=start_date, end=end_date)\n"
   ]
  },
  {
   "cell_type": "code",
   "execution_count": 5,
   "id": "79b1aa80-96e5-49d9-bedf-933fd531e5a5",
   "metadata": {},
   "outputs": [],
   "source": [
    "data.to_csv(\"donnees_boursieres.csv\")"
   ]
  },
  {
   "cell_type": "markdown",
   "id": "3c0a1ad9-edf8-4a0c-a6d1-3a08f5ac9cc5",
   "metadata": {},
   "source": [
    "# 2. Analyse et prétraitement des données "
   ]
  },
  {
   "cell_type": "code",
   "execution_count": 6,
   "id": "9c7527a5-48fb-4ff7-807f-22e8cf1d7e5f",
   "metadata": {},
   "outputs": [],
   "source": [
    "# 1. Analyse exploratrice :\n",
    "import pandas as pd \n",
    "import numpy as np\n",
    "import seaborn as sns\n",
    "import matplotlib.pylab as plt"
   ]
  },
  {
   "cell_type": "code",
   "execution_count": 8,
   "id": "20fee771-0553-426d-bbf3-c3db40fa40c5",
   "metadata": {},
   "outputs": [
    {
     "data": {
      "text/html": [
       "<div>\n",
       "<style scoped>\n",
       "    .dataframe tbody tr th:only-of-type {\n",
       "        vertical-align: middle;\n",
       "    }\n",
       "\n",
       "    .dataframe tbody tr th {\n",
       "        vertical-align: top;\n",
       "    }\n",
       "\n",
       "    .dataframe thead th {\n",
       "        text-align: right;\n",
       "    }\n",
       "</style>\n",
       "<table border=\"1\" class=\"dataframe\">\n",
       "  <thead>\n",
       "    <tr style=\"text-align: right;\">\n",
       "      <th></th>\n",
       "      <th>Price,Close,Close,Close,Close,Close,High,High,High,High,High,Low,Low,Low,Low,Low,Open,Open,Open,Open,Open,Volume,Volume,Volume,Volume,Volume</th>\n",
       "    </tr>\n",
       "  </thead>\n",
       "  <tbody>\n",
       "    <tr>\n",
       "      <th>0</th>\n",
       "      <td>Ticker,AAPL,AMZN,GOOG,META,TSLA,AAPL,AMZN,GOOG...</td>\n",
       "    </tr>\n",
       "    <tr>\n",
       "      <th>1</th>\n",
       "      <td>Date,,,,,,,,,,,,,,,,,,,,,,,,,</td>\n",
       "    </tr>\n",
       "    <tr>\n",
       "      <th>2</th>\n",
       "      <td>2018-01-02,40.47983932495117,59.45050048828125...</td>\n",
       "    </tr>\n",
       "    <tr>\n",
       "      <th>3</th>\n",
       "      <td>2018-01-03,40.4727897644043,60.209999084472656...</td>\n",
       "    </tr>\n",
       "    <tr>\n",
       "      <th>4</th>\n",
       "      <td>2018-01-04,40.66078186035156,60.47949981689453...</td>\n",
       "    </tr>\n",
       "  </tbody>\n",
       "</table>\n",
       "</div>"
      ],
      "text/plain": [
       "  Price,Close,Close,Close,Close,Close,High,High,High,High,High,Low,Low,Low,Low,Low,Open,Open,Open,Open,Open,Volume,Volume,Volume,Volume,Volume\n",
       "0  Ticker,AAPL,AMZN,GOOG,META,TSLA,AAPL,AMZN,GOOG...                                                                                          \n",
       "1                      Date,,,,,,,,,,,,,,,,,,,,,,,,,                                                                                          \n",
       "2  2018-01-02,40.47983932495117,59.45050048828125...                                                                                          \n",
       "3  2018-01-03,40.4727897644043,60.209999084472656...                                                                                          \n",
       "4  2018-01-04,40.66078186035156,60.47949981689453...                                                                                          "
      ]
     },
     "execution_count": 8,
     "metadata": {},
     "output_type": "execute_result"
    }
   ],
   "source": [
    "fichier=\"donnees_boursieres.csv\"\n",
    "df_bours=pd.read_csv(fichier, sep=\";\")\n",
    "df_bours.head()"
   ]
  },
  {
   "cell_type": "code",
   "execution_count": 14,
   "id": "38b44635-ca2c-45f9-84a9-57c6a7900c7d",
   "metadata": {},
   "outputs": [
    {
     "data": {
      "text/html": [
       "<div>\n",
       "<style scoped>\n",
       "    .dataframe tbody tr th:only-of-type {\n",
       "        vertical-align: middle;\n",
       "    }\n",
       "\n",
       "    .dataframe tbody tr th {\n",
       "        vertical-align: top;\n",
       "    }\n",
       "\n",
       "    .dataframe thead th {\n",
       "        text-align: right;\n",
       "    }\n",
       "</style>\n",
       "<table border=\"1\" class=\"dataframe\">\n",
       "  <thead>\n",
       "    <tr style=\"text-align: right;\">\n",
       "      <th></th>\n",
       "      <th>Date</th>\n",
       "      <th>Close_AAPL</th>\n",
       "      <th>Close_AMZN</th>\n",
       "      <th>Close_GOOG</th>\n",
       "      <th>Close_META</th>\n",
       "      <th>Close_TSLA</th>\n",
       "      <th>High_AAPL</th>\n",
       "      <th>High_AMZN</th>\n",
       "      <th>High_GOOG</th>\n",
       "      <th>High_META</th>\n",
       "      <th>...</th>\n",
       "      <th>Open_AAPL</th>\n",
       "      <th>Open_AMZN</th>\n",
       "      <th>Open_GOOG</th>\n",
       "      <th>Open_META</th>\n",
       "      <th>Open_TSLA</th>\n",
       "      <th>Volume_AAPL</th>\n",
       "      <th>Volume_AMZN</th>\n",
       "      <th>Volume_GOOG</th>\n",
       "      <th>Volume_META</th>\n",
       "      <th>Volume_TSLA</th>\n",
       "    </tr>\n",
       "  </thead>\n",
       "  <tbody>\n",
       "    <tr>\n",
       "      <th>0</th>\n",
       "      <td>2018-01-03</td>\n",
       "      <td>40.472790</td>\n",
       "      <td>60.209999</td>\n",
       "      <td>53.868855</td>\n",
       "      <td>183.803726</td>\n",
       "      <td>21.150000</td>\n",
       "      <td>41.017975</td>\n",
       "      <td>60.274502</td>\n",
       "      <td>54.058455</td>\n",
       "      <td>183.913211</td>\n",
       "      <td>...</td>\n",
       "      <td>40.543288</td>\n",
       "      <td>59.415001</td>\n",
       "      <td>52.964637</td>\n",
       "      <td>181.026821</td>\n",
       "      <td>21.400000</td>\n",
       "      <td>118071600.0</td>\n",
       "      <td>62176000.0</td>\n",
       "      <td>28604000.0</td>\n",
       "      <td>16886600.0</td>\n",
       "      <td>67822500.0</td>\n",
       "    </tr>\n",
       "    <tr>\n",
       "      <th>1</th>\n",
       "      <td>2018-01-04</td>\n",
       "      <td>40.660782</td>\n",
       "      <td>60.479500</td>\n",
       "      <td>54.063931</td>\n",
       "      <td>183.465332</td>\n",
       "      <td>20.974667</td>\n",
       "      <td>40.764179</td>\n",
       "      <td>60.793499</td>\n",
       "      <td>54.420742</td>\n",
       "      <td>185.336518</td>\n",
       "      <td>...</td>\n",
       "      <td>40.545634</td>\n",
       "      <td>60.250000</td>\n",
       "      <td>54.143555</td>\n",
       "      <td>184.032650</td>\n",
       "      <td>20.858000</td>\n",
       "      <td>89738400.0</td>\n",
       "      <td>60442000.0</td>\n",
       "      <td>20092000.0</td>\n",
       "      <td>13880900.0</td>\n",
       "      <td>149194500.0</td>\n",
       "    </tr>\n",
       "    <tr>\n",
       "      <th>2</th>\n",
       "      <td>2018-01-05</td>\n",
       "      <td>41.123714</td>\n",
       "      <td>61.457001</td>\n",
       "      <td>54.851692</td>\n",
       "      <td>185.973511</td>\n",
       "      <td>21.105333</td>\n",
       "      <td>41.210661</td>\n",
       "      <td>61.457001</td>\n",
       "      <td>54.952218</td>\n",
       "      <td>186.023264</td>\n",
       "      <td>...</td>\n",
       "      <td>40.757126</td>\n",
       "      <td>60.875500</td>\n",
       "      <td>54.442133</td>\n",
       "      <td>184.719412</td>\n",
       "      <td>21.108000</td>\n",
       "      <td>94640000.0</td>\n",
       "      <td>70894000.0</td>\n",
       "      <td>25582000.0</td>\n",
       "      <td>13574500.0</td>\n",
       "      <td>68868000.0</td>\n",
       "    </tr>\n",
       "    <tr>\n",
       "      <th>3</th>\n",
       "      <td>2018-01-08</td>\n",
       "      <td>40.970974</td>\n",
       "      <td>62.343498</td>\n",
       "      <td>55.086082</td>\n",
       "      <td>187.396790</td>\n",
       "      <td>22.427334</td>\n",
       "      <td>41.267063</td>\n",
       "      <td>62.653999</td>\n",
       "      <td>55.301561</td>\n",
       "      <td>188.013876</td>\n",
       "      <td>...</td>\n",
       "      <td>40.970974</td>\n",
       "      <td>61.799999</td>\n",
       "      <td>54.851692</td>\n",
       "      <td>186.321854</td>\n",
       "      <td>21.066668</td>\n",
       "      <td>82271200.0</td>\n",
       "      <td>85590000.0</td>\n",
       "      <td>20952000.0</td>\n",
       "      <td>17994700.0</td>\n",
       "      <td>147891000.0</td>\n",
       "    </tr>\n",
       "    <tr>\n",
       "      <th>4</th>\n",
       "      <td>2018-01-09</td>\n",
       "      <td>40.966270</td>\n",
       "      <td>62.634998</td>\n",
       "      <td>55.052250</td>\n",
       "      <td>186.988693</td>\n",
       "      <td>22.246000</td>\n",
       "      <td>41.137814</td>\n",
       "      <td>62.966499</td>\n",
       "      <td>55.266734</td>\n",
       "      <td>187.914338</td>\n",
       "      <td>...</td>\n",
       "      <td>41.017969</td>\n",
       "      <td>62.845001</td>\n",
       "      <td>55.208511</td>\n",
       "      <td>187.814802</td>\n",
       "      <td>22.344000</td>\n",
       "      <td>86336000.0</td>\n",
       "      <td>73226000.0</td>\n",
       "      <td>18050000.0</td>\n",
       "      <td>12393100.0</td>\n",
       "      <td>107199000.0</td>\n",
       "    </tr>\n",
       "  </tbody>\n",
       "</table>\n",
       "<p>5 rows × 26 columns</p>\n",
       "</div>"
      ],
      "text/plain": [
       "        Date  Close_AAPL  Close_AMZN  Close_GOOG  Close_META  Close_TSLA  \\\n",
       "0 2018-01-03   40.472790   60.209999   53.868855  183.803726   21.150000   \n",
       "1 2018-01-04   40.660782   60.479500   54.063931  183.465332   20.974667   \n",
       "2 2018-01-05   41.123714   61.457001   54.851692  185.973511   21.105333   \n",
       "3 2018-01-08   40.970974   62.343498   55.086082  187.396790   22.427334   \n",
       "4 2018-01-09   40.966270   62.634998   55.052250  186.988693   22.246000   \n",
       "\n",
       "   High_AAPL  High_AMZN  High_GOOG   High_META  ...  Open_AAPL  Open_AMZN  \\\n",
       "0  41.017975  60.274502  54.058455  183.913211  ...  40.543288  59.415001   \n",
       "1  40.764179  60.793499  54.420742  185.336518  ...  40.545634  60.250000   \n",
       "2  41.210661  61.457001  54.952218  186.023264  ...  40.757126  60.875500   \n",
       "3  41.267063  62.653999  55.301561  188.013876  ...  40.970974  61.799999   \n",
       "4  41.137814  62.966499  55.266734  187.914338  ...  41.017969  62.845001   \n",
       "\n",
       "   Open_GOOG   Open_META  Open_TSLA  Volume_AAPL  Volume_AMZN  Volume_GOOG  \\\n",
       "0  52.964637  181.026821  21.400000  118071600.0   62176000.0   28604000.0   \n",
       "1  54.143555  184.032650  20.858000   89738400.0   60442000.0   20092000.0   \n",
       "2  54.442133  184.719412  21.108000   94640000.0   70894000.0   25582000.0   \n",
       "3  54.851692  186.321854  21.066668   82271200.0   85590000.0   20952000.0   \n",
       "4  55.208511  187.814802  22.344000   86336000.0   73226000.0   18050000.0   \n",
       "\n",
       "   Volume_META  Volume_TSLA  \n",
       "0   16886600.0   67822500.0  \n",
       "1   13880900.0  149194500.0  \n",
       "2   13574500.0   68868000.0  \n",
       "3   17994700.0  147891000.0  \n",
       "4   12393100.0  107199000.0  \n",
       "\n",
       "[5 rows x 26 columns]"
      ]
     },
     "execution_count": 14,
     "metadata": {},
     "output_type": "execute_result"
    }
   ],
   "source": [
    "#Nettoyage et réorganisation du csv \n",
    "df_bours = pd.read_csv(\"C:/Users/sonia/Documents/GitHub/Projet_Final_ML_M1/donnees_boursieres.csv\", header=[0, 1])\n",
    "df_final = df_bours[2:].copy()\n",
    "df_final.reset_index(drop=True, inplace=True)\n",
    "\n",
    "#Fusion les colonnes multi-index en colonnes lisibles\n",
    "df_final.columns = [f\"{col[0]}_{col[1]}\" if col[0] not in [\"Price\", \"Ticker\", \"Date\"] else f\"{col[0]}\" for col in df_final.columns]\n",
    "\n",
    "#Colonne date : renomme\n",
    "possible_date_col = [col for col in df_final.columns if \"Date\" in col or \"Price\" in col]\n",
    "if possible_date_col:\n",
    "    df_final.rename(columns={possible_date_col[0]: \"Date\"}, inplace=True)\n",
    "\n",
    "#Convertir la colonne Date en datetime\n",
    "df_final[\"Date\"] = pd.to_datetime(df_final[\"Date\"], errors=\"coerce\")\n",
    "\n",
    "#Supprimer les lignes sans date\n",
    "df_final = df_final.dropna(subset=[\"Date\"])\n",
    "df_final.reset_index(drop=True, inplace=True)\n",
    "df_final.head()\n"
   ]
  },
  {
   "cell_type": "code",
   "execution_count": 16,
   "id": "3831296d-6f16-4515-ac26-33ad0f528de5",
   "metadata": {},
   "outputs": [],
   "source": [
    "df_final.to_csv(\"donnees_boursieres_nettoyees.csv\")"
   ]
  },
  {
   "cell_type": "code",
   "execution_count": null,
   "id": "c394bba8-5b44-4afd-82f4-c4b7ffa80be1",
   "metadata": {},
   "outputs": [],
   "source": []
  }
 ],
 "metadata": {
  "kernelspec": {
   "display_name": "Python 3 (ipykernel)",
   "language": "python",
   "name": "python3"
  },
  "language_info": {
   "codemirror_mode": {
    "name": "ipython",
    "version": 3
   },
   "file_extension": ".py",
   "mimetype": "text/x-python",
   "name": "python",
   "nbconvert_exporter": "python",
   "pygments_lexer": "ipython3",
   "version": "3.11.9"
  }
 },
 "nbformat": 4,
 "nbformat_minor": 5
}
